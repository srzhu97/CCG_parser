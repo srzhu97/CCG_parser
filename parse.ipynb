{
 "cells": [
  {
   "cell_type": "code",
   "execution_count": 2,
   "id": "revised-pantyhose",
   "metadata": {},
   "outputs": [],
   "source": [
    "\n",
    "from nltk.sem.logic import LogicParser\n",
    "from nltk.sem.logic import LogicalExpressionException\n",
    "\n",
    "logic_parser = LogicParser(type_check=False)"
   ]
  },
  {
   "cell_type": "code",
   "execution_count": 6,
   "id": "heavy-abraham",
   "metadata": {},
   "outputs": [
    {
     "name": "stdout",
     "output_type": "stream",
     "text": [
      "ncore 36\n"
     ]
    },
    {
     "data": {
      "text/plain": [
       "[(4000, 4138),\n",
       " (4139, 4277),\n",
       " (4278, 4416),\n",
       " (4417, 4555),\n",
       " (4556, 4694),\n",
       " (4695, 4833),\n",
       " (4834, 4972),\n",
       " (4973, 5111)]"
      ]
     },
     "execution_count": 6,
     "metadata": {},
     "output_type": "execute_result"
    }
   ],
   "source": [
    "from math import ceil\n",
    "start = 4000\n",
    "number = 5000\n",
    "ncore = 36\n",
    "end = number\n",
    "print(\"ncore\", ncore)\n",
    "execute_number = int(ceil(float(number) / ncore))\n",
    "[(i, i+execute_number-1) for i in range(start, end+1, execute_number)]"
   ]
  },
  {
   "cell_type": "code",
   "execution_count": 7,
   "id": "sensitive-oxygen",
   "metadata": {},
   "outputs": [
    {
     "data": {
      "text/plain": [
       "139"
      ]
     },
     "execution_count": 7,
     "metadata": {},
     "output_type": "execute_result"
    }
   ],
   "source": [
    "execute_number"
   ]
  },
  {
   "cell_type": "code",
   "execution_count": 7,
   "id": "standing-anger",
   "metadata": {},
   "outputs": [],
   "source": [
    "from nltk.sem.logic import LogicParser\n",
    "from nltk.sem.logic import LogicalExpressionException"
   ]
  },
  {
   "cell_type": "code",
   "execution_count": 5,
   "id": "prepared-harvard",
   "metadata": {},
   "outputs": [],
   "source": [
    "test_str = \"(exists d12 x13.(_force(x13) & _christian(x13) & True & True & _strong(x13,d12) & True & H(_strong,d12)) & exists x14.(True & exists x15.(_retreat(x15) & True & True & _in(x14,x15))) & _although(exists d16 x17.(_force(x17) & _christian(x17) & True & True & _strong(x17,d16) & True & H(_strong,d16)),exists x18.(True & exists x19.(_retreat(x19) & True & True & _in(x18,x19)))))\""
   ]
  },
  {
   "cell_type": "code",
   "execution_count": 9,
   "id": "respiratory-manner",
   "metadata": {},
   "outputs": [
    {
     "data": {
      "text/plain": [
       "<AndExpression (exists d12 x13.(_force(x13) & _christian(x13) & True & True & _strong(x13,d12) & True & H(_strong,d12)) & exists x14.(True & exists x15.(_retreat(x15) & True & True & _in(x14,x15))) & _although(exists d16 x17.(_force(x17) & _christian(x17) & True & True & _strong(x17,d16) & True & H(_strong,d16)),exists x18.(True & exists x19.(_retreat(x19) & True & True & _in(x18,x19)))))>"
      ]
     },
     "execution_count": 9,
     "metadata": {},
     "output_type": "execute_result"
    }
   ],
   "source": [
    "logic_parser = LogicParser(type_check=False)\n",
    "logic_parser.parse(test_str)"
   ]
  },
  {
   "cell_type": "code",
   "execution_count": null,
   "id": "working-insured",
   "metadata": {},
   "outputs": [],
   "source": [
    "from math import ceil\n",
    "start = 4000\n",
    "number = 5000\n",
    "ncore = 36\n",
    "end = number\n",
    "print(\"ncore\", ncore)\n",
    "execute_number = int(ceil(float(number) / ncore))\n",
    "[(i, i+execute_number-1) for i in range(start, end+1, execute_number)]"
   ]
  }
 ],
 "metadata": {
  "kernelspec": {
   "display_name": "Python 3",
   "language": "python",
   "name": "python3"
  },
  "language_info": {
   "codemirror_mode": {
    "name": "ipython",
    "version": 3
   },
   "file_extension": ".py",
   "mimetype": "text/x-python",
   "name": "python",
   "nbconvert_exporter": "python",
   "pygments_lexer": "ipython3",
   "version": "3.7.10"
  }
 },
 "nbformat": 4,
 "nbformat_minor": 5
}
