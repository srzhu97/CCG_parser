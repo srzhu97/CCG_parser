{
 "cells": [
  {
   "cell_type": "code",
   "execution_count": 1,
   "id": "broad-kidney",
   "metadata": {},
   "outputs": [],
   "source": [
    "import os\n",
    "from os import listdir\n",
    "from os.path import isfile, join\n",
    "import json"
   ]
  },
  {
   "cell_type": "code",
   "execution_count": 2,
   "id": "dried-niger",
   "metadata": {},
   "outputs": [],
   "source": [
    "# with open(\"./multinli_1.0/multinli_1.0_matched.jsonl\", 'r') as f:\n",
    "with open(\"./multinli_1.0/multinli_1.0_dev_matched.jsonl\", 'r') as f:\n",
    "    data = f.readlines()"
   ]
  },
  {
   "cell_type": "code",
   "execution_count": 3,
   "id": "demonstrated-interference",
   "metadata": {},
   "outputs": [],
   "source": [
    "newdata = []\n",
    "for dp in data:\n",
    "    dp = eval(dp)\n",
    "    dp['lf1'] = \"\"\n",
    "    dp['lf2'] = \"\"\n",
    "    newdata.append(dp)"
   ]
  },
  {
   "cell_type": "code",
   "execution_count": 4,
   "id": "talented-baseball",
   "metadata": {},
   "outputs": [
    {
     "data": {
      "text/plain": [
       "10000"
      ]
     },
     "execution_count": 4,
     "metadata": {},
     "output_type": "execute_result"
    }
   ],
   "source": [
    "len(newdata)"
   ]
  },
  {
   "cell_type": "code",
   "execution_count": 5,
   "id": "clear-celebrity",
   "metadata": {},
   "outputs": [],
   "source": [
    "# use only depccg result\n",
    "# path = \"./LF/\"\n",
    "path = \"./LF_dev/\"\n",
    "parser_name = 'candc'\n",
    "files = [f for f in listdir(path) if isfile(join(path, f))]\n",
    "ind = 0\n",
    "max_ind = 0\n",
    "used_files = []\n",
    "for file in files:\n",
    "    if parser_name not in file:\n",
    "        continue\n",
    "    file_id = file.split(\"_\")[2]\n",
    "    with open(path + file, 'r') as f:\n",
    "        lf_forms = f.readlines()\n",
    "    if len(lf_forms) == 1:\n",
    "        continue\n",
    "    used_files.append(file)\n",
    "    newdata[int(file_id) - 1]['lf1'] = lf_forms[0]\n",
    "    newdata[int(file_id) - 1]['lf2'] = lf_forms[1]\n",
    "    max_ind = max(int(file_id), max_ind)"
   ]
  },
  {
   "cell_type": "code",
   "execution_count": 6,
   "id": "indoor-wellington",
   "metadata": {},
   "outputs": [
    {
     "data": {
      "text/plain": [
       "998"
      ]
     },
     "execution_count": 6,
     "metadata": {},
     "output_type": "execute_result"
    }
   ],
   "source": [
    "max_ind"
   ]
  },
  {
   "cell_type": "code",
   "execution_count": 19,
   "id": "qualified-worse",
   "metadata": {},
   "outputs": [],
   "source": [
    "with open(\"./multinli_1.0/multinli_1.0_dev_expand.jsonl\", 'w') as f:\n",
    "    for line in newdata:\n",
    "        f.write(json.dumps(line) + \"\\n\")"
   ]
  },
  {
   "cell_type": "code",
   "execution_count": 7,
   "id": "destroyed-manor",
   "metadata": {},
   "outputs": [],
   "source": [
    "cnt = 0\n",
    "for dp in newdata:\n",
    "    if len(dp['lf1']):\n",
    "        cnt += 1"
   ]
  },
  {
   "cell_type": "code",
   "execution_count": 8,
   "id": "frozen-coupon",
   "metadata": {},
   "outputs": [
    {
     "data": {
      "text/plain": [
       "337"
      ]
     },
     "execution_count": 8,
     "metadata": {},
     "output_type": "execute_result"
    }
   ],
   "source": [
    "cnt"
   ]
  },
  {
   "cell_type": "code",
   "execution_count": 9,
   "id": "thirty-microwave",
   "metadata": {},
   "outputs": [],
   "source": [
    "cnt = 0\n",
    "# with open(\"./multinli_1.0/multinli_1.0_train_expand2.jsonl\", 'r') as f:\n",
    "with open(\"./multinli_1.0/multinli_1.0_dev_expand.jsonl\", 'r') as f:\n",
    "    data = f.readlines()\n",
    "    for dp in data:\n",
    "        dp = json.loads(dp)\n",
    "        if len(dp['lf1']):\n",
    "            cnt += 1"
   ]
  },
  {
   "cell_type": "code",
   "execution_count": 10,
   "id": "valid-welsh",
   "metadata": {},
   "outputs": [
    {
     "data": {
      "text/plain": [
       "341"
      ]
     },
     "execution_count": 10,
     "metadata": {},
     "output_type": "execute_result"
    }
   ],
   "source": [
    "cnt"
   ]
  },
  {
   "cell_type": "code",
   "execution_count": 15,
   "id": "requested-guyana",
   "metadata": {},
   "outputs": [],
   "source": [
    "files = [f for f in listdir(path) if isfile(join(path, f))]"
   ]
  },
  {
   "cell_type": "code",
   "execution_count": 11,
   "id": "assisted-retailer",
   "metadata": {},
   "outputs": [],
   "source": [
    "valid_ans = 0 \n",
    "total_cnt = 0\n",
    "correct_ans = 0\n",
    "\n",
    "for used_file in used_files:\n",
    "    file_id = used_file.split(\"_\")[2]\n",
    "#     file = f\"mnli_train_{file_id}_gq.txt.easyccg.answer\"\n",
    "    file = f\"mnli_dev_{file_id}_gq.txt.candc.answer\"\n",
    "    \n",
    "#     with open(\"./en_results\" + \"/\" + file, 'r') as f:\n",
    "    with open(\"./mnli_dev_results\" + \"/\" + file, 'r') as f:\n",
    "        ans = f.readlines()\n",
    "        if ans and ans[0].strip() != 'unknown':\n",
    "            valid_ans += 1\n",
    "    \n",
    "#     with open (f\"./plain_multinli/mnli_train_{file_id}_gq.answer\") as f:\n",
    "    with open (f\"./plain_multinli_dev/mnli_dev_{file_id}_gq.answer\") as f:\n",
    "        ref_sol = f.readlines()[0].strip()\n",
    "        \n",
    "    if ans and ref_sol == ans[0].strip():\n",
    "        correct_ans += 1\n",
    "#     print(ans, ref_sol, used_file)\n",
    "    total_cnt += 1"
   ]
  },
  {
   "cell_type": "code",
   "execution_count": 12,
   "id": "hispanic-controversy",
   "metadata": {},
   "outputs": [
    {
     "data": {
      "text/plain": [
       "0.26706231454005935"
      ]
     },
     "execution_count": 12,
     "metadata": {},
     "output_type": "execute_result"
    }
   ],
   "source": [
    "correct_ans / total_cnt"
   ]
  },
  {
   "cell_type": "code",
   "execution_count": 14,
   "id": "british-familiar",
   "metadata": {},
   "outputs": [
    {
     "data": {
      "text/plain": [
       "0.008902077151335312"
      ]
     },
     "execution_count": 14,
     "metadata": {},
     "output_type": "execute_result"
    }
   ],
   "source": [
    "valid_ans/ total_cnt"
   ]
  },
  {
   "cell_type": "code",
   "execution_count": null,
   "id": "fabulous-browser",
   "metadata": {},
   "outputs": [],
   "source": []
  },
  {
   "cell_type": "code",
   "execution_count": null,
   "id": "unique-sleeve",
   "metadata": {},
   "outputs": [],
   "source": []
  },
  {
   "cell_type": "markdown",
   "id": "grand-place",
   "metadata": {},
   "source": [
    "### For train"
   ]
  },
  {
   "cell_type": "code",
   "execution_count": 46,
   "id": "synthetic-making",
   "metadata": {},
   "outputs": [
    {
     "data": {
      "text/plain": [
       "119"
      ]
     },
     "execution_count": 46,
     "metadata": {},
     "output_type": "execute_result"
    }
   ],
   "source": [
    "valid_ans"
   ]
  },
  {
   "cell_type": "code",
   "execution_count": 31,
   "id": "familiar-finger",
   "metadata": {},
   "outputs": [
    {
     "data": {
      "text/plain": [
       "11978"
      ]
     },
     "execution_count": 31,
     "metadata": {},
     "output_type": "execute_result"
    }
   ],
   "source": [
    "total_cn"
   ]
  },
  {
   "cell_type": "code",
   "execution_count": 48,
   "id": "painful-research",
   "metadata": {},
   "outputs": [
    {
     "data": {
      "text/plain": [
       "0.2624478783419181"
      ]
     },
     "execution_count": 48,
     "metadata": {},
     "output_type": "execute_result"
    }
   ],
   "source": [
    "correct_ans / total_cnt"
   ]
  },
  {
   "cell_type": "code",
   "execution_count": 29,
   "id": "developmental-nitrogen",
   "metadata": {},
   "outputs": [
    {
     "data": {
      "text/plain": [
       "0.011688094840540992"
      ]
     },
     "execution_count": 29,
     "metadata": {},
     "output_type": "execute_result"
    }
   ],
   "source": [
    "valid_answer/ total_cnt"
   ]
  }
 ],
 "metadata": {
  "kernelspec": {
   "display_name": "Python 3",
   "language": "python",
   "name": "python3"
  },
  "language_info": {
   "codemirror_mode": {
    "name": "ipython",
    "version": 3
   },
   "file_extension": ".py",
   "mimetype": "text/x-python",
   "name": "python",
   "nbconvert_exporter": "python",
   "pygments_lexer": "ipython3",
   "version": "3.7.10"
  }
 },
 "nbformat": 4,
 "nbformat_minor": 5
}
