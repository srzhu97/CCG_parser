{
 "cells": [
  {
   "cell_type": "code",
   "execution_count": 2,
   "id": "revised-pantyhose",
   "metadata": {},
   "outputs": [],
   "source": [
    "\n",
    "from nltk.sem.logic import LogicParser\n",
    "from nltk.sem.logic import LogicalExpressionException\n",
    "\n",
    "logic_parser = LogicParser(type_check=False)"
   ]
  },
  {
   "cell_type": "code",
   "execution_count": 6,
   "id": "heavy-abraham",
   "metadata": {},
   "outputs": [
    {
     "name": "stdout",
     "output_type": "stream",
     "text": [
      "ncore 36\n"
     ]
    },
    {
     "data": {
      "text/plain": [
       "[(4000, 4138),\n",
       " (4139, 4277),\n",
       " (4278, 4416),\n",
       " (4417, 4555),\n",
       " (4556, 4694),\n",
       " (4695, 4833),\n",
       " (4834, 4972),\n",
       " (4973, 5111)]"
      ]
     },
     "execution_count": 6,
     "metadata": {},
     "output_type": "execute_result"
    }
   ],
   "source": [
    "from math import ceil\n",
    "start = 4000\n",
    "number = 5000\n",
    "ncore = 36\n",
    "end = number\n",
    "print(\"ncore\", ncore)\n",
    "execute_number = int(ceil(float(number) / ncore))\n",
    "[(i, i+execute_number-1) for i in range(start, end+1, execute_number)]"
   ]
  },
  {
   "cell_type": "code",
   "execution_count": 7,
   "id": "sensitive-oxygen",
   "metadata": {},
   "outputs": [
    {
     "data": {
      "text/plain": [
       "139"
      ]
     },
     "execution_count": 7,
     "metadata": {},
     "output_type": "execute_result"
    }
   ],
   "source": [
    "execute_number"
   ]
  },
  {
   "cell_type": "code",
   "execution_count": 1,
   "id": "great-journalism",
   "metadata": {},
   "outputs": [],
   "source": [
    "from nltk.sem import logic\n",
    "from nltk.sem.glue import *\n",
    "from nltk.sem.linearlogic import *\n",
    "from nltk.sem.linearlogic import Expression\n",
    "read_expr = Expression.fromstring\n"
   ]
  },
  {
   "cell_type": "code",
   "execution_count": 5,
   "id": "reported-massachusetts",
   "metadata": {},
   "outputs": [],
   "source": [
    "test_str = \"(exists d12 x13.(_force(x13) & _christian(x13) & True & True & _strong(x13,d12) & True & H(_strong,d12)) & exists x14.(True & exists x15.(_retreat(x15) & True & True & _in(x14,x15))) & _although(exists d16 x17.(_force(x17) & _christian(x17) & True & True & _strong(x17,d16) & True & H(_strong,d16)),exists x18.(True & exists x19.(_retreat(x19) & True & True & _in(x18,x19)))))\""
   ]
  },
  {
   "cell_type": "code",
   "execution_count": 6,
   "id": "celtic-brunswick",
   "metadata": {},
   "outputs": [
    {
     "ename": "LogicalExpressionException",
     "evalue": "Unexpected token: 'd12'.  Expected token ')'.\n(exists d12 x13.(_force(x13) & _christian(x13) & True & True & _strong(x13,d12) & True & H(_strong,d12)) & exists x14.(True & exists x15.(_retreat(x15) & True & True & _in(x14,x15))) & _although(exists d16 x17.(_force(x17) & _christian(x17) & True & True & _strong(x17,d16) & True & H(_strong,d16)),exists x18.(True & exists x19.(_retreat(x19) & True & True & _in(x18,x19)))))\n        ^",
     "output_type": "error",
     "traceback": [
      "\u001b[0;31m---------------------------------------------------------------------------\u001b[0m",
      "\u001b[0;31mUnexpectedTokenException\u001b[0m                  Traceback (most recent call last)",
      "\u001b[0;32m~/anaconda3/lib/python3.7/site-packages/nltk/sem/logic.py\u001b[0m in \u001b[0;36mparse\u001b[0;34m(self, data, signature)\u001b[0m\n\u001b[1;32m    150\u001b[0m         \u001b[0;32mtry\u001b[0m\u001b[0;34m:\u001b[0m\u001b[0;34m\u001b[0m\u001b[0;34m\u001b[0m\u001b[0m\n\u001b[0;32m--> 151\u001b[0;31m             \u001b[0mresult\u001b[0m \u001b[0;34m=\u001b[0m \u001b[0mself\u001b[0m\u001b[0;34m.\u001b[0m\u001b[0mprocess_next_expression\u001b[0m\u001b[0;34m(\u001b[0m\u001b[0;32mNone\u001b[0m\u001b[0;34m)\u001b[0m\u001b[0;34m\u001b[0m\u001b[0;34m\u001b[0m\u001b[0m\n\u001b[0m\u001b[1;32m    152\u001b[0m             \u001b[0;32mif\u001b[0m \u001b[0mself\u001b[0m\u001b[0;34m.\u001b[0m\u001b[0minRange\u001b[0m\u001b[0;34m(\u001b[0m\u001b[0;36m0\u001b[0m\u001b[0;34m)\u001b[0m\u001b[0;34m:\u001b[0m\u001b[0;34m\u001b[0m\u001b[0;34m\u001b[0m\u001b[0m\n",
      "\u001b[0;32m~/anaconda3/lib/python3.7/site-packages/nltk/sem/logic.py\u001b[0m in \u001b[0;36mprocess_next_expression\u001b[0;34m(self, context)\u001b[0m\n\u001b[1;32m    286\u001b[0m \u001b[0;34m\u001b[0m\u001b[0m\n\u001b[0;32m--> 287\u001b[0;31m         \u001b[0maccum\u001b[0m \u001b[0;34m=\u001b[0m \u001b[0mself\u001b[0m\u001b[0;34m.\u001b[0m\u001b[0mhandle\u001b[0m\u001b[0;34m(\u001b[0m\u001b[0mtok\u001b[0m\u001b[0;34m,\u001b[0m \u001b[0mcontext\u001b[0m\u001b[0;34m)\u001b[0m\u001b[0;34m\u001b[0m\u001b[0;34m\u001b[0m\u001b[0m\n\u001b[0m\u001b[1;32m    288\u001b[0m \u001b[0;34m\u001b[0m\u001b[0m\n",
      "\u001b[0;32m~/anaconda3/lib/python3.7/site-packages/nltk/sem/linearlogic.py\u001b[0m in \u001b[0;36mhandle\u001b[0;34m(self, tok, context)\u001b[0m\n\u001b[1;32m     42\u001b[0m         \u001b[0;32melif\u001b[0m \u001b[0mtok\u001b[0m \u001b[0;34m==\u001b[0m \u001b[0mTokens\u001b[0m\u001b[0;34m.\u001b[0m\u001b[0mOPEN\u001b[0m\u001b[0;34m:\u001b[0m\u001b[0;34m\u001b[0m\u001b[0;34m\u001b[0m\u001b[0m\n\u001b[0;32m---> 43\u001b[0;31m             \u001b[0;32mreturn\u001b[0m \u001b[0mself\u001b[0m\u001b[0;34m.\u001b[0m\u001b[0mhandle_open\u001b[0m\u001b[0;34m(\u001b[0m\u001b[0mtok\u001b[0m\u001b[0;34m,\u001b[0m \u001b[0mcontext\u001b[0m\u001b[0;34m)\u001b[0m\u001b[0;34m\u001b[0m\u001b[0;34m\u001b[0m\u001b[0m\n\u001b[0m\u001b[1;32m     44\u001b[0m \u001b[0;34m\u001b[0m\u001b[0m\n",
      "\u001b[0;32m~/anaconda3/lib/python3.7/site-packages/nltk/sem/logic.py\u001b[0m in \u001b[0;36mhandle_open\u001b[0;34m(self, tok, context)\u001b[0m\n\u001b[1;32m    444\u001b[0m         \u001b[0maccum\u001b[0m \u001b[0;34m=\u001b[0m \u001b[0mself\u001b[0m\u001b[0;34m.\u001b[0m\u001b[0mprocess_next_expression\u001b[0m\u001b[0;34m(\u001b[0m\u001b[0;32mNone\u001b[0m\u001b[0;34m)\u001b[0m\u001b[0;34m\u001b[0m\u001b[0;34m\u001b[0m\u001b[0m\n\u001b[0;32m--> 445\u001b[0;31m         \u001b[0mself\u001b[0m\u001b[0;34m.\u001b[0m\u001b[0massertNextToken\u001b[0m\u001b[0;34m(\u001b[0m\u001b[0mTokens\u001b[0m\u001b[0;34m.\u001b[0m\u001b[0mCLOSE\u001b[0m\u001b[0;34m)\u001b[0m\u001b[0;34m\u001b[0m\u001b[0;34m\u001b[0m\u001b[0m\n\u001b[0m\u001b[1;32m    446\u001b[0m         \u001b[0;32mreturn\u001b[0m \u001b[0maccum\u001b[0m\u001b[0;34m\u001b[0m\u001b[0;34m\u001b[0m\u001b[0m\n",
      "\u001b[0;32m~/anaconda3/lib/python3.7/site-packages/nltk/sem/logic.py\u001b[0m in \u001b[0;36massertNextToken\u001b[0;34m(self, expected)\u001b[0m\n\u001b[1;32m    567\u001b[0m             \u001b[0;32mif\u001b[0m \u001b[0mtok\u001b[0m \u001b[0;34m!=\u001b[0m \u001b[0mexpected\u001b[0m\u001b[0;34m:\u001b[0m\u001b[0;34m\u001b[0m\u001b[0;34m\u001b[0m\u001b[0m\n\u001b[0;32m--> 568\u001b[0;31m                 \u001b[0;32mraise\u001b[0m \u001b[0mUnexpectedTokenException\u001b[0m\u001b[0;34m(\u001b[0m\u001b[0mself\u001b[0m\u001b[0;34m.\u001b[0m\u001b[0m_currentIndex\u001b[0m\u001b[0;34m,\u001b[0m \u001b[0mtok\u001b[0m\u001b[0;34m,\u001b[0m \u001b[0mexpected\u001b[0m\u001b[0;34m)\u001b[0m\u001b[0;34m\u001b[0m\u001b[0;34m\u001b[0m\u001b[0m\n\u001b[0m\u001b[1;32m    569\u001b[0m \u001b[0;34m\u001b[0m\u001b[0m\n",
      "\u001b[0;31mUnexpectedTokenException\u001b[0m: Unexpected token: 'd12'.  Expected token ')'.",
      "\nDuring handling of the above exception, another exception occurred:\n",
      "\u001b[0;31mLogicalExpressionException\u001b[0m                Traceback (most recent call last)",
      "\u001b[0;32m<ipython-input-6-702defb54604>\u001b[0m in \u001b[0;36m<module>\u001b[0;34m\u001b[0m\n\u001b[0;32m----> 1\u001b[0;31m \u001b[0mread_expr\u001b[0m\u001b[0;34m(\u001b[0m\u001b[0mtest_str\u001b[0m\u001b[0;34m)\u001b[0m\u001b[0;34m\u001b[0m\u001b[0;34m\u001b[0m\u001b[0m\n\u001b[0m",
      "\u001b[0;32m~/anaconda3/lib/python3.7/site-packages/nltk/sem/linearlogic.py\u001b[0m in \u001b[0;36mfromstring\u001b[0;34m(cls, s)\u001b[0m\n\u001b[1;32m     78\u001b[0m     \u001b[0;34m@\u001b[0m\u001b[0mclassmethod\u001b[0m\u001b[0;34m\u001b[0m\u001b[0;34m\u001b[0m\u001b[0m\n\u001b[1;32m     79\u001b[0m     \u001b[0;32mdef\u001b[0m \u001b[0mfromstring\u001b[0m\u001b[0;34m(\u001b[0m\u001b[0mcls\u001b[0m\u001b[0;34m,\u001b[0m \u001b[0ms\u001b[0m\u001b[0;34m)\u001b[0m\u001b[0;34m:\u001b[0m\u001b[0;34m\u001b[0m\u001b[0;34m\u001b[0m\u001b[0m\n\u001b[0;32m---> 80\u001b[0;31m         \u001b[0;32mreturn\u001b[0m \u001b[0mcls\u001b[0m\u001b[0;34m.\u001b[0m\u001b[0m_linear_logic_parser\u001b[0m\u001b[0;34m.\u001b[0m\u001b[0mparse\u001b[0m\u001b[0;34m(\u001b[0m\u001b[0ms\u001b[0m\u001b[0;34m)\u001b[0m\u001b[0;34m\u001b[0m\u001b[0;34m\u001b[0m\u001b[0m\n\u001b[0m\u001b[1;32m     81\u001b[0m \u001b[0;34m\u001b[0m\u001b[0m\n\u001b[1;32m     82\u001b[0m     \u001b[0;32mdef\u001b[0m \u001b[0mapplyto\u001b[0m\u001b[0;34m(\u001b[0m\u001b[0mself\u001b[0m\u001b[0;34m,\u001b[0m \u001b[0mother\u001b[0m\u001b[0;34m,\u001b[0m \u001b[0mother_indices\u001b[0m\u001b[0;34m=\u001b[0m\u001b[0;32mNone\u001b[0m\u001b[0;34m)\u001b[0m\u001b[0;34m:\u001b[0m\u001b[0;34m\u001b[0m\u001b[0;34m\u001b[0m\u001b[0m\n",
      "\u001b[0;32m~/anaconda3/lib/python3.7/site-packages/nltk/sem/logic.py\u001b[0m in \u001b[0;36mparse\u001b[0;34m(self, data, signature)\u001b[0m\n\u001b[1;32m    154\u001b[0m         \u001b[0;32mexcept\u001b[0m \u001b[0mLogicalExpressionException\u001b[0m \u001b[0;32mas\u001b[0m \u001b[0me\u001b[0m\u001b[0;34m:\u001b[0m\u001b[0;34m\u001b[0m\u001b[0;34m\u001b[0m\u001b[0m\n\u001b[1;32m    155\u001b[0m             \u001b[0mmsg\u001b[0m \u001b[0;34m=\u001b[0m \u001b[0;34m\"%s\\n%s\\n%s^\"\u001b[0m \u001b[0;34m%\u001b[0m \u001b[0;34m(\u001b[0m\u001b[0me\u001b[0m\u001b[0;34m,\u001b[0m \u001b[0mdata\u001b[0m\u001b[0;34m,\u001b[0m \u001b[0;34m\" \"\u001b[0m \u001b[0;34m*\u001b[0m \u001b[0mmapping\u001b[0m\u001b[0;34m[\u001b[0m\u001b[0me\u001b[0m\u001b[0;34m.\u001b[0m\u001b[0mindex\u001b[0m \u001b[0;34m-\u001b[0m \u001b[0;36m1\u001b[0m\u001b[0;34m]\u001b[0m\u001b[0;34m)\u001b[0m\u001b[0;34m\u001b[0m\u001b[0;34m\u001b[0m\u001b[0m\n\u001b[0;32m--> 156\u001b[0;31m             \u001b[0;32mraise\u001b[0m \u001b[0mLogicalExpressionException\u001b[0m\u001b[0;34m(\u001b[0m\u001b[0;32mNone\u001b[0m\u001b[0;34m,\u001b[0m \u001b[0mmsg\u001b[0m\u001b[0;34m)\u001b[0m\u001b[0;34m\u001b[0m\u001b[0;34m\u001b[0m\u001b[0m\n\u001b[0m\u001b[1;32m    157\u001b[0m \u001b[0;34m\u001b[0m\u001b[0m\n\u001b[1;32m    158\u001b[0m         \u001b[0;32mif\u001b[0m \u001b[0mself\u001b[0m\u001b[0;34m.\u001b[0m\u001b[0mtype_check\u001b[0m\u001b[0;34m:\u001b[0m\u001b[0;34m\u001b[0m\u001b[0;34m\u001b[0m\u001b[0m\n",
      "\u001b[0;31mLogicalExpressionException\u001b[0m: Unexpected token: 'd12'.  Expected token ')'.\n(exists d12 x13.(_force(x13) & _christian(x13) & True & True & _strong(x13,d12) & True & H(_strong,d12)) & exists x14.(True & exists x15.(_retreat(x15) & True & True & _in(x14,x15))) & _although(exists d16 x17.(_force(x17) & _christian(x17) & True & True & _strong(x17,d16) & True & H(_strong,d16)),exists x18.(True & exists x19.(_retreat(x19) & True & True & _in(x18,x19)))))\n        ^"
     ]
    }
   ],
   "source": [
    "read_expr(test_str)"
   ]
  },
  {
   "cell_type": "code",
   "execution_count": null,
   "id": "working-insured",
   "metadata": {},
   "outputs": [],
   "source": [
    "from math import ceil\n",
    "start = 4000\n",
    "number = 5000\n",
    "ncore = 36\n",
    "end = number\n",
    "print(\"ncore\", ncore)\n",
    "execute_number = int(ceil(float(number) / ncore))\n",
    "[(i, i+execute_number-1) for i in range(start, end+1, execute_number)]"
   ]
  }
 ],
 "metadata": {
  "kernelspec": {
   "display_name": "Python 3",
   "language": "python",
   "name": "python3"
  },
  "language_info": {
   "codemirror_mode": {
    "name": "ipython",
    "version": 3
   },
   "file_extension": ".py",
   "mimetype": "text/x-python",
   "name": "python",
   "nbconvert_exporter": "python",
   "pygments_lexer": "ipython3",
   "version": "3.7.10"
  }
 },
 "nbformat": 4,
 "nbformat_minor": 5
}
